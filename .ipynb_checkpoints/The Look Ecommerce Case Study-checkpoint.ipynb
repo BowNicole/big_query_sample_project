{
 "cells": [
  {
   "cell_type": "markdown",
   "id": "34ad7494",
   "metadata": {},
   "source": [
    "# The Look Ecommerce Case Study\n",
    "prepared by Nicole Wambui on 17th November 2022\n",
    "\n",
    "####  Table of Contents\n",
    "\n",
    "<ul>\n",
    "<li><a href=\"#intro\">Introduction</a></li>\n",
    "<li><a href=\"#wrang\">Data Wrangling</a></li>\n",
    "<li><a href=\"#eda\">Exploratory Data Analysis</a></li>\n",
    "    <ul><li><a href=\"#qu\">Research Question 1 </a></li>\n",
    "        <li><a href=\"#que\">Research Question 2</a></li>\n",
    "        <li><a href=\"#ques\">Research Question 3</a></li>\n",
    "        <li><a href=\"#quest\">Research Question 4</a></li> </ul>\n",
    "<li><a href=\"#conc\">Conclusions</a></li>\n",
    "<li><a href=\"#recom\">Recommendations & Further Research</a></li>\n",
    "</ul>\n",
    "\n",
    "## Introduction <a id='intro'></a>\n",
    "\n",
    "The purpose of this case study is to generate some insights on The Look's business and enable them to be able to go into the new year with some ideas on targeted marketing and data-led business decision making.\n",
    "\n",
    "The data is from Google bigQuery's public dataset which you can find [here]() and there is alos a link to all the csvfiles used herein [here](). Given that it is quite difficult to share SQL scripts, the queries used to get the data will be copied herein.\n",
    "\n",
    "The questions below are the areas we'll be ivnestigating first of all using various SQL queries, and finally visualising them and a little wrangling using python and related packages.\n",
    "\n",
    "Questions:\n",
    "1. Which distribution centre has the highest numebr fo sales?\n",
    "2. Which otder items are the most profitable? (in terms of gross sales amount)\n",
    "3. Which order items have the highest number of sales?\n",
    "4. Average order cost?\n",
    "5. Who are the top 50 customers? (for promo)\n",
    "6. What is the most popular traffic source?\n",
    "7. Which is the most popular browser?\n",
    "8. What country has the highest number of orders?\n",
    "9. What country has the highest amount in orders? (gross amount)"
   ]
  },
  {
   "cell_type": "code",
   "execution_count": null,
   "id": "496315de",
   "metadata": {},
   "outputs": [],
   "source": []
  }
 ],
 "metadata": {
  "kernelspec": {
   "display_name": "Python 3 (ipykernel)",
   "language": "python",
   "name": "python3"
  },
  "language_info": {
   "codemirror_mode": {
    "name": "ipython",
    "version": 3
   },
   "file_extension": ".py",
   "mimetype": "text/x-python",
   "name": "python",
   "nbconvert_exporter": "python",
   "pygments_lexer": "ipython3",
   "version": "3.9.12"
  }
 },
 "nbformat": 4,
 "nbformat_minor": 5
}
